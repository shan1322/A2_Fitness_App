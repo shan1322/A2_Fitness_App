{
 "cells": [
  {
   "cell_type": "code",
   "execution_count": 1,
   "id": "87159806-467d-411b-b000-dc2db2e8403e",
   "metadata": {},
   "outputs": [],
   "source": [
    "import os\n",
    "import random\n",
    "import numpy as np\n",
    "import tensorflow as tf\n",
    "from tensorflow import keras\n",
    "from tensorflow.keras import layers\n",
    "from tensorflow.keras.preprocessing.image import ImageDataGenerator\n",
    "from tensorflow.keras.metrics import AUC\n",
    "import pickle\n",
    "from sklearn.metrics import f1_score\n",
    "from tensorflow.keras.preprocessing.image import load_img,img_to_array\n",
    "\n"
   ]
  },
  {
   "cell_type": "code",
   "execution_count": 2,
   "id": "62726aed-7d9a-48b1-ba0c-6cd4c35446ee",
   "metadata": {},
   "outputs": [],
   "source": [
    "def get_categories(data_dir):\n",
    "    return [d for d in os.listdir(data_dir) if os.path.isdir(os.path.join(data_dir, d))]"
   ]
  },
  {
   "cell_type": "code",
   "execution_count": 3,
   "id": "7dc8b0ac-7f48-4ecf-a61a-c73afe41ac6d",
   "metadata": {},
   "outputs": [],
   "source": [
    "def prepare_data_generators(data_dir, image_size=(128, 128), batch_size=32):\n",
    "    train_datagen = ImageDataGenerator(rescale=1./255, validation_split=0.2)\n",
    "    train_generator = train_datagen.flow_from_directory(\n",
    "        data_dir, target_size=image_size, batch_size=batch_size, class_mode='categorical', subset='training'\n",
    "    )\n",
    "    val_generator = train_datagen.flow_from_directory(\n",
    "        data_dir, target_size=image_size, batch_size=batch_size, class_mode='categorical', subset='validation'\n",
    "    )\n",
    "    return train_generator, val_generator, train_datagen"
   ]
  },
  {
   "cell_type": "code",
   "execution_count": 4,
   "id": "bdebfa13-34a8-4e25-adc0-42f6f9142432",
   "metadata": {},
   "outputs": [],
   "source": [
    "def select_manual_test_images(data_dir, categories, num_test_images=5):\n",
    "    manual_test_images = {}\n",
    "    for category in categories:\n",
    "        category_path = os.path.join(data_dir, category)\n",
    "        images = [f for f in os.listdir(category_path) if f.lower().endswith(('png', 'jpg', 'jpeg'))]\n",
    "        selected = random.sample(images, min(num_test_images, len(images)))\n",
    "        manual_test_images[category] = selected\n",
    "    with open(\"manual_test_images.pkl\", \"wb\") as f:\n",
    "        pickle.dump(manual_test_images, f)\n",
    "    print(\"Manual test images saved:\", manual_test_images)"
   ]
  },
  {
   "cell_type": "code",
   "execution_count": 5,
   "id": "f237b4b5-b828-4250-a300-7f30be90240f",
   "metadata": {},
   "outputs": [],
   "source": [
    "def build_cnn_model(input_shape=(128, 128, 3), num_classes=10):\n",
    "    model = keras.Sequential([\n",
    "        layers.Conv2D(32, (3,3), activation='relu', input_shape=input_shape),\n",
    "        layers.MaxPooling2D(2,2),\n",
    "        layers.Conv2D(64, (3,3), activation='relu'),\n",
    "        layers.MaxPooling2D(2,2),\n",
    "        layers.Conv2D(128, (3,3), activation='relu'),\n",
    "        layers.MaxPooling2D(2,2),\n",
    "        layers.Flatten(),\n",
    "        layers.Dense(128, activation='relu'),\n",
    "        layers.Dropout(0.5),\n",
    "        layers.Dense(num_classes, activation='softmax')\n",
    "    ])\n",
    "    model.compile(optimizer='adam', loss='categorical_crossentropy', metrics=['accuracy', AUC(name='auc')])\n",
    "    return model\n",
    "\n",
    "def f1_score_metric(y_true, y_pred):\n",
    "    y_true = np.argmax(y_true, axis=1)\n",
    "    y_pred = np.argmax(y_pred, axis=1)\n",
    "    return f1_score(y_true, y_pred, average='weighted')"
   ]
  },
  {
   "cell_type": "code",
   "execution_count": 6,
   "id": "03c8a77a-7c6d-4e91-a013-58fa7dabe784",
   "metadata": {},
   "outputs": [],
   "source": [
    "def train_and_save_model(model, train_generator, val_generator, epochs=100, model_path=\"models/image_classifier/cnn_posture_classifier.h5\", preprocessor_path=\"models/image_classifier/preprocessor.pkl\"):\n",
    "    history = model.fit(train_generator, validation_data=val_generator, epochs=epochs)\n",
    "    model.save(model_path)\n",
    "    with open(preprocessor_path, \"wb\") as f:\n",
    "        pickle.dump(train_generator.image_data_generator, f)\n",
    "    \n",
    "    # Compute F1-score on validation data\n",
    "    y_true = []\n",
    "    y_pred = []\n",
    "    for batch in val_generator:\n",
    "        images, labels = batch\n",
    "        preds = model.predict(images)\n",
    "        y_true.extend(labels)\n",
    "        y_pred.extend(preds)\n",
    "        if len(y_true) >= val_generator.samples:\n",
    "            break\n",
    "    \n",
    "    f1 = f1_score_metric(np.array(y_true), np.array(y_pred))\n",
    "    print(f\"Model and preprocessor saved! Validation F1-score: {f1:.4f}\")"
   ]
  },
  {
   "cell_type": "code",
   "execution_count": 7,
   "id": "09fd6179-62d9-4ecd-ab70-9c6babb3f46c",
   "metadata": {},
   "outputs": [
    {
     "name": "stdout",
     "output_type": "stream",
     "text": [
      "22\n",
      "Found 11090 images belonging to 22 classes.\n",
      "Found 2763 images belonging to 22 classes.\n",
      "Manual test images saved: {'barbell biceps curl': ['barbell biceps curl_4400191.jpg', 'barbell biceps curl_2100051.jpg', 'barbell biceps curl_5200301.jpg', 'barbell biceps curl_2400031.jpg', 'barbell biceps curl_5600041.jpg'], 'bench press': ['bench press_300051.jpg', 'bench press_3900451.jpg', 'bench press_300041.jpg', 'bench press_5100001.jpg', 'bench press_3200091.jpg'], 'chest fly machine': ['cfm_2600741.jpg', 'cfm_2700011.jpg', 'cfm_1500131.jpg', 'cfm_1500041.jpg', 'cfm_1200031.jpg'], 'deadlift': ['deadlift_1300201.jpg', 'deadlift_2500481.jpg', 'deadlift_1800001.jpg', 'deadlift_600001.jpg', 'deadlift_700021.jpg'], 'decline bench press': ['dbp_600481.jpg', 'dbp_300061.jpg', 'dbp_500401.jpg', 'dbp_200311.jpg', 'dbp_700251.jpg'], 'hammer curl': ['hammer curl_1700291.jpg', 'hammer curl_700441.jpg', 'hammer curl_1000041.jpg', 'hammer curl_1300071.jpg', 'hammer curl_400181.jpg'], 'hip thrust': ['hip thrust_900381.jpg', 'hip thrust_900341.jpg', 'hip thrust_400341.jpg', 'hip thrust_1300031.jpg', 'hip thrust_300271.jpg'], 'incline bench press': ['incline bench press_3100431.jpg', 'incline bench press_1400031.jpg', 'incline bench press_2700321.jpg', 'incline bench press_2800021.jpg', 'incline bench press_2000031.jpg'], 'lat pulldown': ['lat pulldown_4700001.jpg', 'lat pulldown_900051.jpg', 'lat pulldown_4000161.jpg', 'lat pulldown_4700051.jpg', 'lat pulldown_2800041.jpg'], 'lateral raises': ['lateral raise_3000081.jpg', 'lateral raise_2000081.jpg', 'lateral raise_2500131.jpg', 'lateral raise_1100211.jpg', 'lateral raise_2300041.jpg'], 'leg extension': ['leg extension_700051.jpg', 'leg extension_g25.jpg', 'leg extension_1000101.jpg', 'leg extension_1900021.jpg', 'leg extension_2200171.jpg'], 'leg raises': ['leg raises_1300061.jpg', 'leg raises_200141.jpg', 'leg raises_1900191.jpg', 'leg raises_700281.jpg', 'leg raises_800121.jpg'], 'plank': ['plank_702351.jpg', 'plank_200221.jpg', 'plank_704041.jpg', 'plank_200261.jpg', 'plank_704151.jpg'], 'pull up': ['pull up_1300211.jpg', 'pull up_300551.jpg', 'pull up_100431.jpg', 'pull up_1300141.jpg', 'pull up_200191.jpg'], 'push up': ['push up_3200111.jpg', 'push up_400051.jpg', 'push up_2300091.jpg', 'push up_100101.jpg', 'push up_2000081.jpg'], 'romanian deadlift': ['romanian deadlift_800251.jpg', 'romanian deadlift_801261.jpg', 'romanian deadlift_800701.jpg', 'romanian deadlift_900431.jpg', 'romanian deadlift_1300041.jpg'], 'russian twist': ['russian twist_500721.jpg', 'russian twist_800071.jpg', 'russian twist_100951.jpg', 'russian twist_500841.jpg', 'russian twist_800191.jpg'], 'shoulder press': ['shoulder press_300061.jpg', 'shoulder press_600071.jpg', 'shoulder press_1000151.jpg', 'shoulder press_1300161.jpg', 'shoulder press_300391.jpg'], 'squat': ['squat_2400021.jpg', 'squat_1700081.jpg', 'squat_2600071.jpg', 'squat_2800341.jpg', 'squat_2700591.jpg'], 't bar row': ['t bar row_1200121.jpg', 't bar row_400351.jpg', 't bar row_900161.jpg', 't bar row_1700321.jpg', 't bar row_500281.jpg'], 'tricep dips': ['tricep dips_1800011.jpg', 'tricep dips_1300051.jpg', 'tricep dips_1800331.jpg', 'tricep dips_1100021.jpg', 'tricep dips_1800181.jpg'], 'tricep pushdown': ['tricep pushdown_4600221.jpg', 'tricep pushdown_4000041.jpg', 'tricep pushdown_g32.jpg', 'tricep pushdown_2900001.jpg', 'tricep pushdown_800061.jpg']}\n"
     ]
    },
    {
     "name": "stderr",
     "output_type": "stream",
     "text": [
      "D:\\Lib\\site-packages\\keras\\src\\layers\\convolutional\\base_conv.py:107: UserWarning: Do not pass an `input_shape`/`input_dim` argument to a layer. When using Sequential models, prefer using an `Input(shape)` object as the first layer in the model instead.\n",
      "  super().__init__(activity_regularizer=activity_regularizer, **kwargs)\n"
     ]
    }
   ],
   "source": [
    "data_dir = \"data/excercies_images\"\n",
    "image_size = (128, 128)\n",
    "batch_size = 128\n",
    "categories = get_categories(data_dir)\n",
    "np.save(\"models/image_classifier/categories.npy\",categories)\n",
    "print(len(categories))\n",
    "train_generator, val_generator, train_datagen = prepare_data_generators(data_dir, image_size, batch_size)\n",
    "select_manual_test_images(data_dir, categories)\n",
    "model = build_cnn_model(input_shape=(128, 128, 3), num_classes=len(categories))\n",
    "\n"
   ]
  },
  {
   "cell_type": "code",
   "execution_count": 8,
   "id": "af067560-e225-41ae-ad3e-d0811232e2aa",
   "metadata": {},
   "outputs": [
    {
     "name": "stdout",
     "output_type": "stream",
     "text": [
      "<class 'keras.src.legacy.preprocessing.image.DirectoryIterator'>\n"
     ]
    },
    {
     "name": "stderr",
     "output_type": "stream",
     "text": [
      "D:\\Lib\\site-packages\\keras\\src\\trainers\\data_adapters\\py_dataset_adapter.py:121: UserWarning: Your `PyDataset` class should call `super().__init__(**kwargs)` in its constructor. `**kwargs` can include `workers`, `use_multiprocessing`, `max_queue_size`. Do not pass these arguments to `fit()`, as they will be ignored.\n",
      "  self._warn_if_super_not_called()\n"
     ]
    },
    {
     "name": "stdout",
     "output_type": "stream",
     "text": [
      "Epoch 1/100\n",
      "\u001b[1m87/87\u001b[0m \u001b[32m━━━━━━━━━━━━━━━━━━━━\u001b[0m\u001b[37m\u001b[0m \u001b[1m264s\u001b[0m 3s/step - accuracy: 0.1549 - auc: 0.6457 - loss: 2.8706 - val_accuracy: 0.2827 - val_auc: 0.7945 - val_loss: 2.5337\n",
      "Epoch 2/100\n",
      "\u001b[1m87/87\u001b[0m \u001b[32m━━━━━━━━━━━━━━━━━━━━\u001b[0m\u001b[37m\u001b[0m \u001b[1m248s\u001b[0m 3s/step - accuracy: 0.7156 - auc: 0.9636 - loss: 1.0432 - val_accuracy: 0.4032 - val_auc: 0.8378 - val_loss: 2.4112\n",
      "Epoch 3/100\n",
      "\u001b[1m87/87\u001b[0m \u001b[32m━━━━━━━━━━━━━━━━━━━━\u001b[0m\u001b[37m\u001b[0m \u001b[1m277s\u001b[0m 3s/step - accuracy: 0.8794 - auc: 0.9895 - loss: 0.4583 - val_accuracy: 0.4430 - val_auc: 0.8304 - val_loss: 2.5904\n",
      "Epoch 4/100\n",
      "\u001b[1m87/87\u001b[0m \u001b[32m━━━━━━━━━━━━━━━━━━━━\u001b[0m\u001b[37m\u001b[0m \u001b[1m280s\u001b[0m 3s/step - accuracy: 0.9166 - auc: 0.9948 - loss: 0.3152 - val_accuracy: 0.4426 - val_auc: 0.8369 - val_loss: 2.8047\n",
      "Epoch 5/100\n",
      "\u001b[1m87/87\u001b[0m \u001b[32m━━━━━━━━━━━━━━━━━━━━\u001b[0m\u001b[37m\u001b[0m \u001b[1m278s\u001b[0m 3s/step - accuracy: 0.9351 - auc: 0.9972 - loss: 0.2234 - val_accuracy: 0.4770 - val_auc: 0.8396 - val_loss: 2.8027\n",
      "Epoch 6/100\n",
      "\u001b[1m87/87\u001b[0m \u001b[32m━━━━━━━━━━━━━━━━━━━━\u001b[0m\u001b[37m\u001b[0m \u001b[1m278s\u001b[0m 3s/step - accuracy: 0.9528 - auc: 0.9983 - loss: 0.1627 - val_accuracy: 0.4785 - val_auc: 0.8275 - val_loss: 3.0717\n",
      "Epoch 7/100\n",
      "\u001b[1m87/87\u001b[0m \u001b[32m━━━━━━━━━━━━━━━━━━━━\u001b[0m\u001b[37m\u001b[0m \u001b[1m1976s\u001b[0m 23s/step - accuracy: 0.9623 - auc: 0.9984 - loss: 0.1353 - val_accuracy: 0.4615 - val_auc: 0.8192 - val_loss: 3.3708\n",
      "Epoch 8/100\n",
      "\u001b[1m87/87\u001b[0m \u001b[32m━━━━━━━━━━━━━━━━━━━━\u001b[0m\u001b[37m\u001b[0m \u001b[1m236s\u001b[0m 3s/step - accuracy: 0.9627 - auc: 0.9991 - loss: 0.1191 - val_accuracy: 0.4586 - val_auc: 0.8142 - val_loss: 3.5582\n",
      "Epoch 9/100\n",
      "\u001b[1m87/87\u001b[0m \u001b[32m━━━━━━━━━━━━━━━━━━━━\u001b[0m\u001b[37m\u001b[0m \u001b[1m255s\u001b[0m 3s/step - accuracy: 0.9724 - auc: 0.9994 - loss: 0.0874 - val_accuracy: 0.4586 - val_auc: 0.8143 - val_loss: 3.8346\n",
      "Epoch 10/100\n",
      "\u001b[1m87/87\u001b[0m \u001b[32m━━━━━━━━━━━━━━━━━━━━\u001b[0m\u001b[37m\u001b[0m \u001b[1m226s\u001b[0m 3s/step - accuracy: 0.9762 - auc: 0.9994 - loss: 0.0784 - val_accuracy: 0.4633 - val_auc: 0.7890 - val_loss: 4.0334\n",
      "Epoch 11/100\n",
      "\u001b[1m87/87\u001b[0m \u001b[32m━━━━━━━━━━━━━━━━━━━━\u001b[0m\u001b[37m\u001b[0m \u001b[1m14949s\u001b[0m 174s/step - accuracy: 0.9756 - auc: 0.9991 - loss: 0.0831 - val_accuracy: 0.4629 - val_auc: 0.8107 - val_loss: 3.4698\n",
      "Epoch 12/100\n",
      "\u001b[1m87/87\u001b[0m \u001b[32m━━━━━━━━━━━━━━━━━━━━\u001b[0m\u001b[37m\u001b[0m \u001b[1m276s\u001b[0m 3s/step - accuracy: 0.9768 - auc: 0.9996 - loss: 0.0732 - val_accuracy: 0.4701 - val_auc: 0.7941 - val_loss: 4.0859\n",
      "Epoch 13/100\n",
      "\u001b[1m87/87\u001b[0m \u001b[32m━━━━━━━━━━━━━━━━━━━━\u001b[0m\u001b[37m\u001b[0m \u001b[1m257s\u001b[0m 3s/step - accuracy: 0.9797 - auc: 0.9996 - loss: 0.0636 - val_accuracy: 0.4799 - val_auc: 0.8196 - val_loss: 3.8317\n",
      "Epoch 14/100\n",
      "\u001b[1m87/87\u001b[0m \u001b[32m━━━━━━━━━━━━━━━━━━━━\u001b[0m\u001b[37m\u001b[0m \u001b[1m255s\u001b[0m 3s/step - accuracy: 0.9806 - auc: 0.9996 - loss: 0.0565 - val_accuracy: 0.4564 - val_auc: 0.7987 - val_loss: 4.3825\n",
      "Epoch 15/100\n",
      "\u001b[1m87/87\u001b[0m \u001b[32m━━━━━━━━━━━━━━━━━━━━\u001b[0m\u001b[37m\u001b[0m \u001b[1m256s\u001b[0m 3s/step - accuracy: 0.9789 - auc: 0.9992 - loss: 0.0711 - val_accuracy: 0.4987 - val_auc: 0.8127 - val_loss: 4.2147\n",
      "Epoch 16/100\n",
      "\u001b[1m87/87\u001b[0m \u001b[32m━━━━━━━━━━━━━━━━━━━━\u001b[0m\u001b[37m\u001b[0m \u001b[1m257s\u001b[0m 3s/step - accuracy: 0.9848 - auc: 0.9997 - loss: 0.0454 - val_accuracy: 0.4882 - val_auc: 0.8085 - val_loss: 4.3122\n",
      "Epoch 17/100\n",
      "\u001b[1m87/87\u001b[0m \u001b[32m━━━━━━━━━━━━━━━━━━━━\u001b[0m\u001b[37m\u001b[0m \u001b[1m257s\u001b[0m 3s/step - accuracy: 0.9822 - auc: 0.9997 - loss: 0.0522 - val_accuracy: 0.4669 - val_auc: 0.7897 - val_loss: 4.4204\n",
      "Epoch 18/100\n",
      "\u001b[1m87/87\u001b[0m \u001b[32m━━━━━━━━━━━━━━━━━━━━\u001b[0m\u001b[37m\u001b[0m \u001b[1m257s\u001b[0m 3s/step - accuracy: 0.9831 - auc: 0.9995 - loss: 0.0550 - val_accuracy: 0.4640 - val_auc: 0.7980 - val_loss: 4.6028\n",
      "Epoch 19/100\n",
      "\u001b[1m87/87\u001b[0m \u001b[32m━━━━━━━━━━━━━━━━━━━━\u001b[0m\u001b[37m\u001b[0m \u001b[1m256s\u001b[0m 3s/step - accuracy: 0.9842 - auc: 0.9997 - loss: 0.0516 - val_accuracy: 0.4759 - val_auc: 0.8015 - val_loss: 4.6527\n",
      "Epoch 20/100\n",
      "\u001b[1m87/87\u001b[0m \u001b[32m━━━━━━━━━━━━━━━━━━━━\u001b[0m\u001b[37m\u001b[0m \u001b[1m256s\u001b[0m 3s/step - accuracy: 0.9870 - auc: 0.9998 - loss: 0.0396 - val_accuracy: 0.4716 - val_auc: 0.7985 - val_loss: 4.9958\n",
      "Epoch 21/100\n",
      "\u001b[1m87/87\u001b[0m \u001b[32m━━━━━━━━━━━━━━━━━━━━\u001b[0m\u001b[37m\u001b[0m \u001b[1m256s\u001b[0m 3s/step - accuracy: 0.9863 - auc: 0.9997 - loss: 0.0430 - val_accuracy: 0.4633 - val_auc: 0.7943 - val_loss: 5.0394\n",
      "Epoch 22/100\n",
      "\u001b[1m87/87\u001b[0m \u001b[32m━━━━━━━━━━━━━━━━━━━━\u001b[0m\u001b[37m\u001b[0m \u001b[1m258s\u001b[0m 3s/step - accuracy: 0.9843 - auc: 0.9993 - loss: 0.0532 - val_accuracy: 0.4625 - val_auc: 0.8048 - val_loss: 4.6084\n",
      "Epoch 23/100\n",
      "\u001b[1m87/87\u001b[0m \u001b[32m━━━━━━━━━━━━━━━━━━━━\u001b[0m\u001b[37m\u001b[0m \u001b[1m262s\u001b[0m 3s/step - accuracy: 0.9875 - auc: 0.9995 - loss: 0.0399 - val_accuracy: 0.4701 - val_auc: 0.7962 - val_loss: 4.9156\n",
      "Epoch 24/100\n",
      "\u001b[1m87/87\u001b[0m \u001b[32m━━━━━━━━━━━━━━━━━━━━\u001b[0m\u001b[37m\u001b[0m \u001b[1m258s\u001b[0m 3s/step - accuracy: 0.9854 - auc: 0.9993 - loss: 0.0479 - val_accuracy: 0.4777 - val_auc: 0.8036 - val_loss: 4.6858\n",
      "Epoch 25/100\n",
      "\u001b[1m87/87\u001b[0m \u001b[32m━━━━━━━━━━━━━━━━━━━━\u001b[0m\u001b[37m\u001b[0m \u001b[1m255s\u001b[0m 3s/step - accuracy: 0.9883 - auc: 0.9995 - loss: 0.0369 - val_accuracy: 0.4839 - val_auc: 0.8034 - val_loss: 4.4420\n",
      "Epoch 26/100\n",
      "\u001b[1m87/87\u001b[0m \u001b[32m━━━━━━━━━━━━━━━━━━━━\u001b[0m\u001b[37m\u001b[0m \u001b[1m256s\u001b[0m 3s/step - accuracy: 0.9888 - auc: 0.9997 - loss: 0.0354 - val_accuracy: 0.4814 - val_auc: 0.8044 - val_loss: 4.5875\n",
      "Epoch 27/100\n",
      "\u001b[1m87/87\u001b[0m \u001b[32m━━━━━━━━━━━━━━━━━━━━\u001b[0m\u001b[37m\u001b[0m \u001b[1m255s\u001b[0m 3s/step - accuracy: 0.9900 - auc: 0.9997 - loss: 0.0345 - val_accuracy: 0.4984 - val_auc: 0.8114 - val_loss: 4.4499\n",
      "Epoch 28/100\n",
      "\u001b[1m87/87\u001b[0m \u001b[32m━━━━━━━━━━━━━━━━━━━━\u001b[0m\u001b[37m\u001b[0m \u001b[1m255s\u001b[0m 3s/step - accuracy: 0.9893 - auc: 0.9996 - loss: 0.0296 - val_accuracy: 0.4763 - val_auc: 0.8001 - val_loss: 4.6240\n",
      "Epoch 29/100\n",
      "\u001b[1m87/87\u001b[0m \u001b[32m━━━━━━━━━━━━━━━━━━━━\u001b[0m\u001b[37m\u001b[0m \u001b[1m255s\u001b[0m 3s/step - accuracy: 0.9846 - auc: 0.9998 - loss: 0.0443 - val_accuracy: 0.4846 - val_auc: 0.7902 - val_loss: 5.1177\n",
      "Epoch 30/100\n",
      "\u001b[1m87/87\u001b[0m \u001b[32m━━━━━━━━━━━━━━━━━━━━\u001b[0m\u001b[37m\u001b[0m \u001b[1m255s\u001b[0m 3s/step - accuracy: 0.9875 - auc: 0.9996 - loss: 0.0388 - val_accuracy: 0.4824 - val_auc: 0.7982 - val_loss: 4.8913\n",
      "Epoch 31/100\n",
      "\u001b[1m87/87\u001b[0m \u001b[32m━━━━━━━━━━━━━━━━━━━━\u001b[0m\u001b[37m\u001b[0m \u001b[1m254s\u001b[0m 3s/step - accuracy: 0.9910 - auc: 0.9999 - loss: 0.0273 - val_accuracy: 0.4929 - val_auc: 0.7984 - val_loss: 5.0225\n",
      "Epoch 32/100\n",
      "\u001b[1m87/87\u001b[0m \u001b[32m━━━━━━━━━━━━━━━━━━━━\u001b[0m\u001b[37m\u001b[0m \u001b[1m256s\u001b[0m 3s/step - accuracy: 0.9924 - auc: 0.9999 - loss: 0.0204 - val_accuracy: 0.4640 - val_auc: 0.7918 - val_loss: 5.1807\n",
      "Epoch 33/100\n",
      "\u001b[1m87/87\u001b[0m \u001b[32m━━━━━━━━━━━━━━━━━━━━\u001b[0m\u001b[37m\u001b[0m \u001b[1m255s\u001b[0m 3s/step - accuracy: 0.9869 - auc: 0.9997 - loss: 0.0369 - val_accuracy: 0.4843 - val_auc: 0.7926 - val_loss: 5.4110\n",
      "Epoch 34/100\n",
      "\u001b[1m87/87\u001b[0m \u001b[32m━━━━━━━━━━━━━━━━━━━━\u001b[0m\u001b[37m\u001b[0m \u001b[1m254s\u001b[0m 3s/step - accuracy: 0.9914 - auc: 0.9998 - loss: 0.0271 - val_accuracy: 0.4767 - val_auc: 0.7887 - val_loss: 5.8046\n",
      "Epoch 35/100\n",
      "\u001b[1m87/87\u001b[0m \u001b[32m━━━━━━━━━━━━━━━━━━━━\u001b[0m\u001b[37m\u001b[0m \u001b[1m255s\u001b[0m 3s/step - accuracy: 0.9914 - auc: 0.9997 - loss: 0.0266 - val_accuracy: 0.4973 - val_auc: 0.7928 - val_loss: 5.2724\n",
      "Epoch 36/100\n",
      "\u001b[1m87/87\u001b[0m \u001b[32m━━━━━━━━━━━━━━━━━━━━\u001b[0m\u001b[37m\u001b[0m \u001b[1m254s\u001b[0m 3s/step - accuracy: 0.9883 - auc: 0.9998 - loss: 0.0322 - val_accuracy: 0.4944 - val_auc: 0.8006 - val_loss: 5.2072\n",
      "Epoch 37/100\n",
      "\u001b[1m87/87\u001b[0m \u001b[32m━━━━━━━━━━━━━━━━━━━━\u001b[0m\u001b[37m\u001b[0m \u001b[1m258s\u001b[0m 3s/step - accuracy: 0.9919 - auc: 0.9998 - loss: 0.0270 - val_accuracy: 0.4919 - val_auc: 0.7993 - val_loss: 5.3392\n",
      "Epoch 38/100\n",
      "\u001b[1m87/87\u001b[0m \u001b[32m━━━━━━━━━━━━━━━━━━━━\u001b[0m\u001b[37m\u001b[0m \u001b[1m256s\u001b[0m 3s/step - accuracy: 0.9859 - auc: 0.9995 - loss: 0.0424 - val_accuracy: 0.4966 - val_auc: 0.8144 - val_loss: 4.3394\n",
      "Epoch 39/100\n",
      "\u001b[1m87/87\u001b[0m \u001b[32m━━━━━━━━━━━━━━━━━━━━\u001b[0m\u001b[37m\u001b[0m \u001b[1m254s\u001b[0m 3s/step - accuracy: 0.9922 - auc: 0.9997 - loss: 0.0251 - val_accuracy: 0.4835 - val_auc: 0.7986 - val_loss: 5.0668\n",
      "Epoch 40/100\n",
      "\u001b[1m87/87\u001b[0m \u001b[32m━━━━━━━━━━━━━━━━━━━━\u001b[0m\u001b[37m\u001b[0m \u001b[1m254s\u001b[0m 3s/step - accuracy: 0.9917 - auc: 0.9996 - loss: 0.0243 - val_accuracy: 0.4817 - val_auc: 0.7768 - val_loss: 5.5055\n",
      "Epoch 41/100\n",
      "\u001b[1m87/87\u001b[0m \u001b[32m━━━━━━━━━━━━━━━━━━━━\u001b[0m\u001b[37m\u001b[0m \u001b[1m255s\u001b[0m 3s/step - accuracy: 0.9912 - auc: 0.9994 - loss: 0.0267 - val_accuracy: 0.4745 - val_auc: 0.7858 - val_loss: 4.7910\n",
      "Epoch 42/100\n",
      "\u001b[1m87/87\u001b[0m \u001b[32m━━━━━━━━━━━━━━━━━━━━\u001b[0m\u001b[37m\u001b[0m \u001b[1m255s\u001b[0m 3s/step - accuracy: 0.9916 - auc: 0.9999 - loss: 0.0242 - val_accuracy: 0.4651 - val_auc: 0.7795 - val_loss: 5.6752\n",
      "Epoch 43/100\n",
      "\u001b[1m87/87\u001b[0m \u001b[32m━━━━━━━━━━━━━━━━━━━━\u001b[0m\u001b[37m\u001b[0m \u001b[1m257s\u001b[0m 3s/step - accuracy: 0.9870 - auc: 0.9997 - loss: 0.0363 - val_accuracy: 0.4785 - val_auc: 0.7872 - val_loss: 5.0198\n",
      "Epoch 44/100\n",
      "\u001b[1m87/87\u001b[0m \u001b[32m━━━━━━━━━━━━━━━━━━━━\u001b[0m\u001b[37m\u001b[0m \u001b[1m257s\u001b[0m 3s/step - accuracy: 0.9906 - auc: 0.9997 - loss: 0.0296 - val_accuracy: 0.4748 - val_auc: 0.7852 - val_loss: 5.4424\n",
      "Epoch 45/100\n",
      "\u001b[1m87/87\u001b[0m \u001b[32m━━━━━━━━━━━━━━━━━━━━\u001b[0m\u001b[37m\u001b[0m \u001b[1m254s\u001b[0m 3s/step - accuracy: 0.9901 - auc: 0.9996 - loss: 0.0300 - val_accuracy: 0.4980 - val_auc: 0.8019 - val_loss: 4.9170\n",
      "Epoch 46/100\n",
      "\u001b[1m87/87\u001b[0m \u001b[32m━━━━━━━━━━━━━━━━━━━━\u001b[0m\u001b[37m\u001b[0m \u001b[1m256s\u001b[0m 3s/step - accuracy: 0.9939 - auc: 0.9999 - loss: 0.0206 - val_accuracy: 0.4683 - val_auc: 0.7772 - val_loss: 5.9043\n",
      "Epoch 47/100\n",
      "\u001b[1m87/87\u001b[0m \u001b[32m━━━━━━━━━━━━━━━━━━━━\u001b[0m\u001b[37m\u001b[0m \u001b[1m256s\u001b[0m 3s/step - accuracy: 0.9916 - auc: 0.9996 - loss: 0.0262 - val_accuracy: 0.4680 - val_auc: 0.7859 - val_loss: 5.3159\n",
      "Epoch 48/100\n",
      "\u001b[1m87/87\u001b[0m \u001b[32m━━━━━━━━━━━━━━━━━━━━\u001b[0m\u001b[37m\u001b[0m \u001b[1m254s\u001b[0m 3s/step - accuracy: 0.9928 - auc: 0.9995 - loss: 0.0276 - val_accuracy: 0.4669 - val_auc: 0.7771 - val_loss: 5.5922\n",
      "Epoch 49/100\n",
      "\u001b[1m87/87\u001b[0m \u001b[32m━━━━━━━━━━━━━━━━━━━━\u001b[0m\u001b[37m\u001b[0m \u001b[1m255s\u001b[0m 3s/step - accuracy: 0.9915 - auc: 0.9996 - loss: 0.0311 - val_accuracy: 0.4846 - val_auc: 0.7762 - val_loss: 5.5336\n",
      "Epoch 50/100\n",
      "\u001b[1m87/87\u001b[0m \u001b[32m━━━━━━━━━━━━━━━━━━━━\u001b[0m\u001b[37m\u001b[0m \u001b[1m255s\u001b[0m 3s/step - accuracy: 0.9934 - auc: 0.9998 - loss: 0.0203 - val_accuracy: 0.4940 - val_auc: 0.7988 - val_loss: 4.9869\n",
      "Epoch 51/100\n",
      "\u001b[1m87/87\u001b[0m \u001b[32m━━━━━━━━━━━━━━━━━━━━\u001b[0m\u001b[37m\u001b[0m \u001b[1m257s\u001b[0m 3s/step - accuracy: 0.9933 - auc: 0.9996 - loss: 0.0220 - val_accuracy: 0.4810 - val_auc: 0.7970 - val_loss: 5.4445\n",
      "Epoch 52/100\n",
      "\u001b[1m87/87\u001b[0m \u001b[32m━━━━━━━━━━━━━━━━━━━━\u001b[0m\u001b[37m\u001b[0m \u001b[1m257s\u001b[0m 3s/step - accuracy: 0.9923 - auc: 0.9996 - loss: 0.0249 - val_accuracy: 0.5089 - val_auc: 0.8060 - val_loss: 4.9466\n",
      "Epoch 53/100\n",
      "\u001b[1m87/87\u001b[0m \u001b[32m━━━━━━━━━━━━━━━━━━━━\u001b[0m\u001b[37m\u001b[0m \u001b[1m256s\u001b[0m 3s/step - accuracy: 0.9920 - auc: 0.9998 - loss: 0.0264 - val_accuracy: 0.4850 - val_auc: 0.7852 - val_loss: 5.0115\n",
      "Epoch 54/100\n",
      "\u001b[1m87/87\u001b[0m \u001b[32m━━━━━━━━━━━━━━━━━━━━\u001b[0m\u001b[37m\u001b[0m \u001b[1m258s\u001b[0m 3s/step - accuracy: 0.9940 - auc: 0.9999 - loss: 0.0187 - val_accuracy: 0.4922 - val_auc: 0.7845 - val_loss: 5.2506\n",
      "Epoch 55/100\n",
      "\u001b[1m87/87\u001b[0m \u001b[32m━━━━━━━━━━━━━━━━━━━━\u001b[0m\u001b[37m\u001b[0m \u001b[1m256s\u001b[0m 3s/step - accuracy: 0.9934 - auc: 0.9999 - loss: 0.0174 - val_accuracy: 0.4991 - val_auc: 0.7859 - val_loss: 5.3987\n",
      "Epoch 56/100\n",
      "\u001b[1m87/87\u001b[0m \u001b[32m━━━━━━━━━━━━━━━━━━━━\u001b[0m\u001b[37m\u001b[0m \u001b[1m255s\u001b[0m 3s/step - accuracy: 0.9955 - auc: 0.9995 - loss: 0.0194 - val_accuracy: 0.4853 - val_auc: 0.7806 - val_loss: 5.5744\n",
      "Epoch 57/100\n",
      "\u001b[1m87/87\u001b[0m \u001b[32m━━━━━━━━━━━━━━━━━━━━\u001b[0m\u001b[37m\u001b[0m \u001b[1m256s\u001b[0m 3s/step - accuracy: 0.9900 - auc: 0.9997 - loss: 0.0319 - val_accuracy: 0.4846 - val_auc: 0.7868 - val_loss: 5.2411\n",
      "Epoch 58/100\n",
      "\u001b[1m87/87\u001b[0m \u001b[32m━━━━━━━━━━━━━━━━━━━━\u001b[0m\u001b[37m\u001b[0m \u001b[1m257s\u001b[0m 3s/step - accuracy: 0.9932 - auc: 0.9999 - loss: 0.0192 - val_accuracy: 0.4781 - val_auc: 0.7877 - val_loss: 5.8418\n",
      "Epoch 59/100\n",
      "\u001b[1m87/87\u001b[0m \u001b[32m━━━━━━━━━━━━━━━━━━━━\u001b[0m\u001b[37m\u001b[0m \u001b[1m256s\u001b[0m 3s/step - accuracy: 0.9936 - auc: 1.0000 - loss: 0.0190 - val_accuracy: 0.4792 - val_auc: 0.7856 - val_loss: 5.8874\n",
      "Epoch 60/100\n",
      "\u001b[1m87/87\u001b[0m \u001b[32m━━━━━━━━━━━━━━━━━━━━\u001b[0m\u001b[37m\u001b[0m \u001b[1m255s\u001b[0m 3s/step - accuracy: 0.9920 - auc: 0.9997 - loss: 0.0228 - val_accuracy: 0.5002 - val_auc: 0.7897 - val_loss: 5.4391\n",
      "Epoch 61/100\n",
      "\u001b[1m48/87\u001b[0m \u001b[32m━━━━━━━━━━━\u001b[0m\u001b[37m━━━━━━━━━\u001b[0m \u001b[1m1:56\u001b[0m 3s/step - accuracy: 0.9927 - auc: 0.9998 - loss: 0.0207"
     ]
    },
    {
     "ename": "KeyboardInterrupt",
     "evalue": "",
     "output_type": "error",
     "traceback": [
      "\u001b[1;31m---------------------------------------------------------------------------\u001b[0m",
      "\u001b[1;31mKeyboardInterrupt\u001b[0m                         Traceback (most recent call last)",
      "Cell \u001b[1;32mIn[8], line 2\u001b[0m\n\u001b[0;32m      1\u001b[0m \u001b[38;5;28mprint\u001b[39m(\u001b[38;5;28mtype\u001b[39m(train_generator))\n\u001b[1;32m----> 2\u001b[0m \u001b[43mtrain_and_save_model\u001b[49m\u001b[43m(\u001b[49m\u001b[43mmodel\u001b[49m\u001b[43m,\u001b[49m\u001b[43m \u001b[49m\u001b[43mtrain_generator\u001b[49m\u001b[43m,\u001b[49m\u001b[43m \u001b[49m\u001b[43mval_generator\u001b[49m\u001b[43m)\u001b[49m\n",
      "Cell \u001b[1;32mIn[6], line 2\u001b[0m, in \u001b[0;36mtrain_and_save_model\u001b[1;34m(model, train_generator, val_generator, epochs, model_path, preprocessor_path)\u001b[0m\n\u001b[0;32m      1\u001b[0m \u001b[38;5;28;01mdef\u001b[39;00m \u001b[38;5;21mtrain_and_save_model\u001b[39m(model, train_generator, val_generator, epochs\u001b[38;5;241m=\u001b[39m\u001b[38;5;241m100\u001b[39m, model_path\u001b[38;5;241m=\u001b[39m\u001b[38;5;124m\"\u001b[39m\u001b[38;5;124mmodels/image_classifier/cnn_posture_classifier.h5\u001b[39m\u001b[38;5;124m\"\u001b[39m, preprocessor_path\u001b[38;5;241m=\u001b[39m\u001b[38;5;124m\"\u001b[39m\u001b[38;5;124mmodels/image_classifier/preprocessor.pkl\u001b[39m\u001b[38;5;124m\"\u001b[39m):\n\u001b[1;32m----> 2\u001b[0m     history \u001b[38;5;241m=\u001b[39m \u001b[43mmodel\u001b[49m\u001b[38;5;241;43m.\u001b[39;49m\u001b[43mfit\u001b[49m\u001b[43m(\u001b[49m\u001b[43mtrain_generator\u001b[49m\u001b[43m,\u001b[49m\u001b[43m \u001b[49m\u001b[43mvalidation_data\u001b[49m\u001b[38;5;241;43m=\u001b[39;49m\u001b[43mval_generator\u001b[49m\u001b[43m,\u001b[49m\u001b[43m \u001b[49m\u001b[43mepochs\u001b[49m\u001b[38;5;241;43m=\u001b[39;49m\u001b[43mepochs\u001b[49m\u001b[43m)\u001b[49m\n\u001b[0;32m      3\u001b[0m     model\u001b[38;5;241m.\u001b[39msave(model_path)\n\u001b[0;32m      4\u001b[0m     \u001b[38;5;28;01mwith\u001b[39;00m \u001b[38;5;28mopen\u001b[39m(preprocessor_path, \u001b[38;5;124m\"\u001b[39m\u001b[38;5;124mwb\u001b[39m\u001b[38;5;124m\"\u001b[39m) \u001b[38;5;28;01mas\u001b[39;00m f:\n",
      "File \u001b[1;32mD:\\Lib\\site-packages\\keras\\src\\utils\\traceback_utils.py:117\u001b[0m, in \u001b[0;36mfilter_traceback.<locals>.error_handler\u001b[1;34m(*args, **kwargs)\u001b[0m\n\u001b[0;32m    115\u001b[0m filtered_tb \u001b[38;5;241m=\u001b[39m \u001b[38;5;28;01mNone\u001b[39;00m\n\u001b[0;32m    116\u001b[0m \u001b[38;5;28;01mtry\u001b[39;00m:\n\u001b[1;32m--> 117\u001b[0m     \u001b[38;5;28;01mreturn\u001b[39;00m \u001b[43mfn\u001b[49m\u001b[43m(\u001b[49m\u001b[38;5;241;43m*\u001b[39;49m\u001b[43margs\u001b[49m\u001b[43m,\u001b[49m\u001b[43m \u001b[49m\u001b[38;5;241;43m*\u001b[39;49m\u001b[38;5;241;43m*\u001b[39;49m\u001b[43mkwargs\u001b[49m\u001b[43m)\u001b[49m\n\u001b[0;32m    118\u001b[0m \u001b[38;5;28;01mexcept\u001b[39;00m \u001b[38;5;167;01mException\u001b[39;00m \u001b[38;5;28;01mas\u001b[39;00m e:\n\u001b[0;32m    119\u001b[0m     filtered_tb \u001b[38;5;241m=\u001b[39m _process_traceback_frames(e\u001b[38;5;241m.\u001b[39m__traceback__)\n",
      "File \u001b[1;32mD:\\Lib\\site-packages\\keras\\src\\backend\\tensorflow\\trainer.py:371\u001b[0m, in \u001b[0;36mTensorFlowTrainer.fit\u001b[1;34m(self, x, y, batch_size, epochs, verbose, callbacks, validation_split, validation_data, shuffle, class_weight, sample_weight, initial_epoch, steps_per_epoch, validation_steps, validation_batch_size, validation_freq)\u001b[0m\n\u001b[0;32m    369\u001b[0m \u001b[38;5;28;01mfor\u001b[39;00m step, iterator \u001b[38;5;129;01min\u001b[39;00m epoch_iterator:\n\u001b[0;32m    370\u001b[0m     callbacks\u001b[38;5;241m.\u001b[39mon_train_batch_begin(step)\n\u001b[1;32m--> 371\u001b[0m     logs \u001b[38;5;241m=\u001b[39m \u001b[38;5;28;43mself\u001b[39;49m\u001b[38;5;241;43m.\u001b[39;49m\u001b[43mtrain_function\u001b[49m\u001b[43m(\u001b[49m\u001b[43miterator\u001b[49m\u001b[43m)\u001b[49m\n\u001b[0;32m    372\u001b[0m     callbacks\u001b[38;5;241m.\u001b[39mon_train_batch_end(step, logs)\n\u001b[0;32m    373\u001b[0m     \u001b[38;5;28;01mif\u001b[39;00m \u001b[38;5;28mself\u001b[39m\u001b[38;5;241m.\u001b[39mstop_training:\n",
      "File \u001b[1;32mD:\\Lib\\site-packages\\keras\\src\\backend\\tensorflow\\trainer.py:219\u001b[0m, in \u001b[0;36mTensorFlowTrainer._make_function.<locals>.function\u001b[1;34m(iterator)\u001b[0m\n\u001b[0;32m    215\u001b[0m \u001b[38;5;28;01mdef\u001b[39;00m \u001b[38;5;21mfunction\u001b[39m(iterator):\n\u001b[0;32m    216\u001b[0m     \u001b[38;5;28;01mif\u001b[39;00m \u001b[38;5;28misinstance\u001b[39m(\n\u001b[0;32m    217\u001b[0m         iterator, (tf\u001b[38;5;241m.\u001b[39mdata\u001b[38;5;241m.\u001b[39mIterator, tf\u001b[38;5;241m.\u001b[39mdistribute\u001b[38;5;241m.\u001b[39mDistributedIterator)\n\u001b[0;32m    218\u001b[0m     ):\n\u001b[1;32m--> 219\u001b[0m         opt_outputs \u001b[38;5;241m=\u001b[39m \u001b[43mmulti_step_on_iterator\u001b[49m\u001b[43m(\u001b[49m\u001b[43miterator\u001b[49m\u001b[43m)\u001b[49m\n\u001b[0;32m    220\u001b[0m         \u001b[38;5;28;01mif\u001b[39;00m \u001b[38;5;129;01mnot\u001b[39;00m opt_outputs\u001b[38;5;241m.\u001b[39mhas_value():\n\u001b[0;32m    221\u001b[0m             \u001b[38;5;28;01mraise\u001b[39;00m \u001b[38;5;167;01mStopIteration\u001b[39;00m\n",
      "File \u001b[1;32mD:\\Lib\\site-packages\\tensorflow\\python\\util\\traceback_utils.py:150\u001b[0m, in \u001b[0;36mfilter_traceback.<locals>.error_handler\u001b[1;34m(*args, **kwargs)\u001b[0m\n\u001b[0;32m    148\u001b[0m filtered_tb \u001b[38;5;241m=\u001b[39m \u001b[38;5;28;01mNone\u001b[39;00m\n\u001b[0;32m    149\u001b[0m \u001b[38;5;28;01mtry\u001b[39;00m:\n\u001b[1;32m--> 150\u001b[0m   \u001b[38;5;28;01mreturn\u001b[39;00m \u001b[43mfn\u001b[49m\u001b[43m(\u001b[49m\u001b[38;5;241;43m*\u001b[39;49m\u001b[43margs\u001b[49m\u001b[43m,\u001b[49m\u001b[43m \u001b[49m\u001b[38;5;241;43m*\u001b[39;49m\u001b[38;5;241;43m*\u001b[39;49m\u001b[43mkwargs\u001b[49m\u001b[43m)\u001b[49m\n\u001b[0;32m    151\u001b[0m \u001b[38;5;28;01mexcept\u001b[39;00m \u001b[38;5;167;01mException\u001b[39;00m \u001b[38;5;28;01mas\u001b[39;00m e:\n\u001b[0;32m    152\u001b[0m   filtered_tb \u001b[38;5;241m=\u001b[39m _process_traceback_frames(e\u001b[38;5;241m.\u001b[39m__traceback__)\n",
      "File \u001b[1;32mD:\\Lib\\site-packages\\tensorflow\\python\\eager\\polymorphic_function\\polymorphic_function.py:833\u001b[0m, in \u001b[0;36mFunction.__call__\u001b[1;34m(self, *args, **kwds)\u001b[0m\n\u001b[0;32m    830\u001b[0m compiler \u001b[38;5;241m=\u001b[39m \u001b[38;5;124m\"\u001b[39m\u001b[38;5;124mxla\u001b[39m\u001b[38;5;124m\"\u001b[39m \u001b[38;5;28;01mif\u001b[39;00m \u001b[38;5;28mself\u001b[39m\u001b[38;5;241m.\u001b[39m_jit_compile \u001b[38;5;28;01melse\u001b[39;00m \u001b[38;5;124m\"\u001b[39m\u001b[38;5;124mnonXla\u001b[39m\u001b[38;5;124m\"\u001b[39m\n\u001b[0;32m    832\u001b[0m \u001b[38;5;28;01mwith\u001b[39;00m OptionalXlaContext(\u001b[38;5;28mself\u001b[39m\u001b[38;5;241m.\u001b[39m_jit_compile):\n\u001b[1;32m--> 833\u001b[0m   result \u001b[38;5;241m=\u001b[39m \u001b[38;5;28;43mself\u001b[39;49m\u001b[38;5;241;43m.\u001b[39;49m\u001b[43m_call\u001b[49m\u001b[43m(\u001b[49m\u001b[38;5;241;43m*\u001b[39;49m\u001b[43margs\u001b[49m\u001b[43m,\u001b[49m\u001b[43m \u001b[49m\u001b[38;5;241;43m*\u001b[39;49m\u001b[38;5;241;43m*\u001b[39;49m\u001b[43mkwds\u001b[49m\u001b[43m)\u001b[49m\n\u001b[0;32m    835\u001b[0m new_tracing_count \u001b[38;5;241m=\u001b[39m \u001b[38;5;28mself\u001b[39m\u001b[38;5;241m.\u001b[39mexperimental_get_tracing_count()\n\u001b[0;32m    836\u001b[0m without_tracing \u001b[38;5;241m=\u001b[39m (tracing_count \u001b[38;5;241m==\u001b[39m new_tracing_count)\n",
      "File \u001b[1;32mD:\\Lib\\site-packages\\tensorflow\\python\\eager\\polymorphic_function\\polymorphic_function.py:878\u001b[0m, in \u001b[0;36mFunction._call\u001b[1;34m(self, *args, **kwds)\u001b[0m\n\u001b[0;32m    875\u001b[0m \u001b[38;5;28mself\u001b[39m\u001b[38;5;241m.\u001b[39m_lock\u001b[38;5;241m.\u001b[39mrelease()\n\u001b[0;32m    876\u001b[0m \u001b[38;5;66;03m# In this case we have not created variables on the first call. So we can\u001b[39;00m\n\u001b[0;32m    877\u001b[0m \u001b[38;5;66;03m# run the first trace but we should fail if variables are created.\u001b[39;00m\n\u001b[1;32m--> 878\u001b[0m results \u001b[38;5;241m=\u001b[39m \u001b[43mtracing_compilation\u001b[49m\u001b[38;5;241;43m.\u001b[39;49m\u001b[43mcall_function\u001b[49m\u001b[43m(\u001b[49m\n\u001b[0;32m    879\u001b[0m \u001b[43m    \u001b[49m\u001b[43margs\u001b[49m\u001b[43m,\u001b[49m\u001b[43m \u001b[49m\u001b[43mkwds\u001b[49m\u001b[43m,\u001b[49m\u001b[43m \u001b[49m\u001b[38;5;28;43mself\u001b[39;49m\u001b[38;5;241;43m.\u001b[39;49m\u001b[43m_variable_creation_config\u001b[49m\n\u001b[0;32m    880\u001b[0m \u001b[43m\u001b[49m\u001b[43m)\u001b[49m\n\u001b[0;32m    881\u001b[0m \u001b[38;5;28;01mif\u001b[39;00m \u001b[38;5;28mself\u001b[39m\u001b[38;5;241m.\u001b[39m_created_variables:\n\u001b[0;32m    882\u001b[0m   \u001b[38;5;28;01mraise\u001b[39;00m \u001b[38;5;167;01mValueError\u001b[39;00m(\u001b[38;5;124m\"\u001b[39m\u001b[38;5;124mCreating variables on a non-first call to a function\u001b[39m\u001b[38;5;124m\"\u001b[39m\n\u001b[0;32m    883\u001b[0m                    \u001b[38;5;124m\"\u001b[39m\u001b[38;5;124m decorated with tf.function.\u001b[39m\u001b[38;5;124m\"\u001b[39m)\n",
      "File \u001b[1;32mD:\\Lib\\site-packages\\tensorflow\\python\\eager\\polymorphic_function\\tracing_compilation.py:139\u001b[0m, in \u001b[0;36mcall_function\u001b[1;34m(args, kwargs, tracing_options)\u001b[0m\n\u001b[0;32m    137\u001b[0m bound_args \u001b[38;5;241m=\u001b[39m function\u001b[38;5;241m.\u001b[39mfunction_type\u001b[38;5;241m.\u001b[39mbind(\u001b[38;5;241m*\u001b[39margs, \u001b[38;5;241m*\u001b[39m\u001b[38;5;241m*\u001b[39mkwargs)\n\u001b[0;32m    138\u001b[0m flat_inputs \u001b[38;5;241m=\u001b[39m function\u001b[38;5;241m.\u001b[39mfunction_type\u001b[38;5;241m.\u001b[39munpack_inputs(bound_args)\n\u001b[1;32m--> 139\u001b[0m \u001b[38;5;28;01mreturn\u001b[39;00m \u001b[43mfunction\u001b[49m\u001b[38;5;241;43m.\u001b[39;49m\u001b[43m_call_flat\u001b[49m\u001b[43m(\u001b[49m\u001b[43m  \u001b[49m\u001b[38;5;66;43;03m# pylint: disable=protected-access\u001b[39;49;00m\n\u001b[0;32m    140\u001b[0m \u001b[43m    \u001b[49m\u001b[43mflat_inputs\u001b[49m\u001b[43m,\u001b[49m\u001b[43m \u001b[49m\u001b[43mcaptured_inputs\u001b[49m\u001b[38;5;241;43m=\u001b[39;49m\u001b[43mfunction\u001b[49m\u001b[38;5;241;43m.\u001b[39;49m\u001b[43mcaptured_inputs\u001b[49m\n\u001b[0;32m    141\u001b[0m \u001b[43m\u001b[49m\u001b[43m)\u001b[49m\n",
      "File \u001b[1;32mD:\\Lib\\site-packages\\tensorflow\\python\\eager\\polymorphic_function\\concrete_function.py:1322\u001b[0m, in \u001b[0;36mConcreteFunction._call_flat\u001b[1;34m(self, tensor_inputs, captured_inputs)\u001b[0m\n\u001b[0;32m   1318\u001b[0m possible_gradient_type \u001b[38;5;241m=\u001b[39m gradients_util\u001b[38;5;241m.\u001b[39mPossibleTapeGradientTypes(args)\n\u001b[0;32m   1319\u001b[0m \u001b[38;5;28;01mif\u001b[39;00m (possible_gradient_type \u001b[38;5;241m==\u001b[39m gradients_util\u001b[38;5;241m.\u001b[39mPOSSIBLE_GRADIENT_TYPES_NONE\n\u001b[0;32m   1320\u001b[0m     \u001b[38;5;129;01mand\u001b[39;00m executing_eagerly):\n\u001b[0;32m   1321\u001b[0m   \u001b[38;5;66;03m# No tape is watching; skip to running the function.\u001b[39;00m\n\u001b[1;32m-> 1322\u001b[0m   \u001b[38;5;28;01mreturn\u001b[39;00m \u001b[38;5;28;43mself\u001b[39;49m\u001b[38;5;241;43m.\u001b[39;49m\u001b[43m_inference_function\u001b[49m\u001b[38;5;241;43m.\u001b[39;49m\u001b[43mcall_preflattened\u001b[49m\u001b[43m(\u001b[49m\u001b[43margs\u001b[49m\u001b[43m)\u001b[49m\n\u001b[0;32m   1323\u001b[0m forward_backward \u001b[38;5;241m=\u001b[39m \u001b[38;5;28mself\u001b[39m\u001b[38;5;241m.\u001b[39m_select_forward_and_backward_functions(\n\u001b[0;32m   1324\u001b[0m     args,\n\u001b[0;32m   1325\u001b[0m     possible_gradient_type,\n\u001b[0;32m   1326\u001b[0m     executing_eagerly)\n\u001b[0;32m   1327\u001b[0m forward_function, args_with_tangents \u001b[38;5;241m=\u001b[39m forward_backward\u001b[38;5;241m.\u001b[39mforward()\n",
      "File \u001b[1;32mD:\\Lib\\site-packages\\tensorflow\\python\\eager\\polymorphic_function\\atomic_function.py:216\u001b[0m, in \u001b[0;36mAtomicFunction.call_preflattened\u001b[1;34m(self, args)\u001b[0m\n\u001b[0;32m    214\u001b[0m \u001b[38;5;28;01mdef\u001b[39;00m \u001b[38;5;21mcall_preflattened\u001b[39m(\u001b[38;5;28mself\u001b[39m, args: Sequence[core\u001b[38;5;241m.\u001b[39mTensor]) \u001b[38;5;241m-\u001b[39m\u001b[38;5;241m>\u001b[39m Any:\n\u001b[0;32m    215\u001b[0m \u001b[38;5;250m  \u001b[39m\u001b[38;5;124;03m\"\"\"Calls with flattened tensor inputs and returns the structured output.\"\"\"\u001b[39;00m\n\u001b[1;32m--> 216\u001b[0m   flat_outputs \u001b[38;5;241m=\u001b[39m \u001b[38;5;28;43mself\u001b[39;49m\u001b[38;5;241;43m.\u001b[39;49m\u001b[43mcall_flat\u001b[49m\u001b[43m(\u001b[49m\u001b[38;5;241;43m*\u001b[39;49m\u001b[43margs\u001b[49m\u001b[43m)\u001b[49m\n\u001b[0;32m    217\u001b[0m   \u001b[38;5;28;01mreturn\u001b[39;00m \u001b[38;5;28mself\u001b[39m\u001b[38;5;241m.\u001b[39mfunction_type\u001b[38;5;241m.\u001b[39mpack_output(flat_outputs)\n",
      "File \u001b[1;32mD:\\Lib\\site-packages\\tensorflow\\python\\eager\\polymorphic_function\\atomic_function.py:251\u001b[0m, in \u001b[0;36mAtomicFunction.call_flat\u001b[1;34m(self, *args)\u001b[0m\n\u001b[0;32m    249\u001b[0m \u001b[38;5;28;01mwith\u001b[39;00m record\u001b[38;5;241m.\u001b[39mstop_recording():\n\u001b[0;32m    250\u001b[0m   \u001b[38;5;28;01mif\u001b[39;00m \u001b[38;5;28mself\u001b[39m\u001b[38;5;241m.\u001b[39m_bound_context\u001b[38;5;241m.\u001b[39mexecuting_eagerly():\n\u001b[1;32m--> 251\u001b[0m     outputs \u001b[38;5;241m=\u001b[39m \u001b[38;5;28;43mself\u001b[39;49m\u001b[38;5;241;43m.\u001b[39;49m\u001b[43m_bound_context\u001b[49m\u001b[38;5;241;43m.\u001b[39;49m\u001b[43mcall_function\u001b[49m\u001b[43m(\u001b[49m\n\u001b[0;32m    252\u001b[0m \u001b[43m        \u001b[49m\u001b[38;5;28;43mself\u001b[39;49m\u001b[38;5;241;43m.\u001b[39;49m\u001b[43mname\u001b[49m\u001b[43m,\u001b[49m\n\u001b[0;32m    253\u001b[0m \u001b[43m        \u001b[49m\u001b[38;5;28;43mlist\u001b[39;49m\u001b[43m(\u001b[49m\u001b[43margs\u001b[49m\u001b[43m)\u001b[49m\u001b[43m,\u001b[49m\n\u001b[0;32m    254\u001b[0m \u001b[43m        \u001b[49m\u001b[38;5;28;43mlen\u001b[39;49m\u001b[43m(\u001b[49m\u001b[38;5;28;43mself\u001b[39;49m\u001b[38;5;241;43m.\u001b[39;49m\u001b[43mfunction_type\u001b[49m\u001b[38;5;241;43m.\u001b[39;49m\u001b[43mflat_outputs\u001b[49m\u001b[43m)\u001b[49m\u001b[43m,\u001b[49m\n\u001b[0;32m    255\u001b[0m \u001b[43m    \u001b[49m\u001b[43m)\u001b[49m\n\u001b[0;32m    256\u001b[0m   \u001b[38;5;28;01melse\u001b[39;00m:\n\u001b[0;32m    257\u001b[0m     outputs \u001b[38;5;241m=\u001b[39m make_call_op_in_graph(\n\u001b[0;32m    258\u001b[0m         \u001b[38;5;28mself\u001b[39m,\n\u001b[0;32m    259\u001b[0m         \u001b[38;5;28mlist\u001b[39m(args),\n\u001b[0;32m    260\u001b[0m         \u001b[38;5;28mself\u001b[39m\u001b[38;5;241m.\u001b[39m_bound_context\u001b[38;5;241m.\u001b[39mfunction_call_options\u001b[38;5;241m.\u001b[39mas_attrs(),\n\u001b[0;32m    261\u001b[0m     )\n",
      "File \u001b[1;32mD:\\Lib\\site-packages\\tensorflow\\python\\eager\\context.py:1683\u001b[0m, in \u001b[0;36mContext.call_function\u001b[1;34m(self, name, tensor_inputs, num_outputs)\u001b[0m\n\u001b[0;32m   1681\u001b[0m cancellation_context \u001b[38;5;241m=\u001b[39m cancellation\u001b[38;5;241m.\u001b[39mcontext()\n\u001b[0;32m   1682\u001b[0m \u001b[38;5;28;01mif\u001b[39;00m cancellation_context \u001b[38;5;129;01mis\u001b[39;00m \u001b[38;5;28;01mNone\u001b[39;00m:\n\u001b[1;32m-> 1683\u001b[0m   outputs \u001b[38;5;241m=\u001b[39m \u001b[43mexecute\u001b[49m\u001b[38;5;241;43m.\u001b[39;49m\u001b[43mexecute\u001b[49m\u001b[43m(\u001b[49m\n\u001b[0;32m   1684\u001b[0m \u001b[43m      \u001b[49m\u001b[43mname\u001b[49m\u001b[38;5;241;43m.\u001b[39;49m\u001b[43mdecode\u001b[49m\u001b[43m(\u001b[49m\u001b[38;5;124;43m\"\u001b[39;49m\u001b[38;5;124;43mutf-8\u001b[39;49m\u001b[38;5;124;43m\"\u001b[39;49m\u001b[43m)\u001b[49m\u001b[43m,\u001b[49m\n\u001b[0;32m   1685\u001b[0m \u001b[43m      \u001b[49m\u001b[43mnum_outputs\u001b[49m\u001b[38;5;241;43m=\u001b[39;49m\u001b[43mnum_outputs\u001b[49m\u001b[43m,\u001b[49m\n\u001b[0;32m   1686\u001b[0m \u001b[43m      \u001b[49m\u001b[43minputs\u001b[49m\u001b[38;5;241;43m=\u001b[39;49m\u001b[43mtensor_inputs\u001b[49m\u001b[43m,\u001b[49m\n\u001b[0;32m   1687\u001b[0m \u001b[43m      \u001b[49m\u001b[43mattrs\u001b[49m\u001b[38;5;241;43m=\u001b[39;49m\u001b[43mattrs\u001b[49m\u001b[43m,\u001b[49m\n\u001b[0;32m   1688\u001b[0m \u001b[43m      \u001b[49m\u001b[43mctx\u001b[49m\u001b[38;5;241;43m=\u001b[39;49m\u001b[38;5;28;43mself\u001b[39;49m\u001b[43m,\u001b[49m\n\u001b[0;32m   1689\u001b[0m \u001b[43m  \u001b[49m\u001b[43m)\u001b[49m\n\u001b[0;32m   1690\u001b[0m \u001b[38;5;28;01melse\u001b[39;00m:\n\u001b[0;32m   1691\u001b[0m   outputs \u001b[38;5;241m=\u001b[39m execute\u001b[38;5;241m.\u001b[39mexecute_with_cancellation(\n\u001b[0;32m   1692\u001b[0m       name\u001b[38;5;241m.\u001b[39mdecode(\u001b[38;5;124m\"\u001b[39m\u001b[38;5;124mutf-8\u001b[39m\u001b[38;5;124m\"\u001b[39m),\n\u001b[0;32m   1693\u001b[0m       num_outputs\u001b[38;5;241m=\u001b[39mnum_outputs,\n\u001b[1;32m   (...)\u001b[0m\n\u001b[0;32m   1697\u001b[0m       cancellation_manager\u001b[38;5;241m=\u001b[39mcancellation_context,\n\u001b[0;32m   1698\u001b[0m   )\n",
      "File \u001b[1;32mD:\\Lib\\site-packages\\tensorflow\\python\\eager\\execute.py:53\u001b[0m, in \u001b[0;36mquick_execute\u001b[1;34m(op_name, num_outputs, inputs, attrs, ctx, name)\u001b[0m\n\u001b[0;32m     51\u001b[0m \u001b[38;5;28;01mtry\u001b[39;00m:\n\u001b[0;32m     52\u001b[0m   ctx\u001b[38;5;241m.\u001b[39mensure_initialized()\n\u001b[1;32m---> 53\u001b[0m   tensors \u001b[38;5;241m=\u001b[39m \u001b[43mpywrap_tfe\u001b[49m\u001b[38;5;241;43m.\u001b[39;49m\u001b[43mTFE_Py_Execute\u001b[49m\u001b[43m(\u001b[49m\u001b[43mctx\u001b[49m\u001b[38;5;241;43m.\u001b[39;49m\u001b[43m_handle\u001b[49m\u001b[43m,\u001b[49m\u001b[43m \u001b[49m\u001b[43mdevice_name\u001b[49m\u001b[43m,\u001b[49m\u001b[43m \u001b[49m\u001b[43mop_name\u001b[49m\u001b[43m,\u001b[49m\n\u001b[0;32m     54\u001b[0m \u001b[43m                                      \u001b[49m\u001b[43minputs\u001b[49m\u001b[43m,\u001b[49m\u001b[43m \u001b[49m\u001b[43mattrs\u001b[49m\u001b[43m,\u001b[49m\u001b[43m \u001b[49m\u001b[43mnum_outputs\u001b[49m\u001b[43m)\u001b[49m\n\u001b[0;32m     55\u001b[0m \u001b[38;5;28;01mexcept\u001b[39;00m core\u001b[38;5;241m.\u001b[39m_NotOkStatusException \u001b[38;5;28;01mas\u001b[39;00m e:\n\u001b[0;32m     56\u001b[0m   \u001b[38;5;28;01mif\u001b[39;00m name \u001b[38;5;129;01mis\u001b[39;00m \u001b[38;5;129;01mnot\u001b[39;00m \u001b[38;5;28;01mNone\u001b[39;00m:\n",
      "\u001b[1;31mKeyboardInterrupt\u001b[0m: "
     ]
    }
   ],
   "source": [
    "print(type(train_generator))\n",
    "train_and_save_model(model, train_generator, val_generator)\n"
   ]
  },
  {
   "cell_type": "code",
   "execution_count": 19,
   "id": "b59b67cc-c7e0-4034-b5ab-52962bb84c58",
   "metadata": {},
   "outputs": [],
   "source": [
    "def predict_image(image_path, model_path=\"models/image_classifier/cnn_posture_classifier.h5\", preprocessor_path=\"models/image_classifier/preprocessor.pkl\", class_labels_path=None):\n",
    "    model = keras.models.load_model(model_path)\n",
    "    with open(preprocessor_path, \"rb\") as f:\n",
    "        preprocessor = pickle.load(f)\n",
    "    \n",
    "    img = load_img(image_path, target_size=(128, 128))\n",
    "    img_array = img_to_array(img)\n",
    "    img_array = np.expand_dims(img_array, axis=0)\n",
    "    img_array = preprocessor.standardize(img_array)\n",
    "    \n",
    "    prediction = model.predict(img_array)\n",
    "    predicted_class = np.argmax(prediction, axis=1)[0]\n",
    "    class_labels=np.load(class_labels_path)\n",
    "    print(class_labels)\n",
    "    print(predicted_class)\n",
    "    class_name = class_labels[predicted_class] \n",
    "    \n",
    "    print(f\"Predicted class: {class_name}\")\n",
    "    return class_name\n"
   ]
  },
  {
   "cell_type": "code",
   "execution_count": 20,
   "id": "781dfd32-6eb4-4446-8ed2-9e2fd235d97c",
   "metadata": {},
   "outputs": [
    {
     "name": "stderr",
     "output_type": "stream",
     "text": [
      "WARNING:absl:Compiled the loaded model, but the compiled metrics have yet to be built. `model.compile_metrics` will be empty until you train or evaluate the model.\n"
     ]
    },
    {
     "name": "stdout",
     "output_type": "stream",
     "text": [
      "\u001b[1m1/1\u001b[0m \u001b[32m━━━━━━━━━━━━━━━━━━━━\u001b[0m\u001b[37m\u001b[0m \u001b[1m0s\u001b[0m 199ms/step\n",
      "['barbell biceps curl' 'bench press' 'chest fly machine' 'deadlift'\n",
      " 'decline bench press' 'hammer curl' 'hip thrust' 'incline bench press'\n",
      " 'lat pulldown' 'lateral raises' 'leg extension' 'leg raises' 'plank'\n",
      " 'pull up' 'push up' 'romanian deadlift' 'russian twist' 'shoulder press'\n",
      " 'squat' 't bar row' 'tricep dips' 'tricep pushdown']\n",
      "0\n",
      "Predicted class: barbell biceps curl\n"
     ]
    },
    {
     "data": {
      "text/plain": [
       "np.str_('barbell biceps curl')"
      ]
     },
     "execution_count": 20,
     "metadata": {},
     "output_type": "execute_result"
    }
   ],
   "source": [
    "predict_image(image_path='data/excercies_images/barbell biceps curl//barbell biceps curl_4700091.jpg',class_labels_path=\"models/image_classifier/categories.npy\")"
   ]
  },
  {
   "cell_type": "code",
   "execution_count": null,
   "id": "20b84797-f925-43ac-a7c1-1ae047b3b592",
   "metadata": {},
   "outputs": [],
   "source": []
  }
 ],
 "metadata": {
  "kernelspec": {
   "display_name": "Python 3 (ipykernel)",
   "language": "python",
   "name": "python3"
  },
  "language_info": {
   "codemirror_mode": {
    "name": "ipython",
    "version": 3
   },
   "file_extension": ".py",
   "mimetype": "text/x-python",
   "name": "python",
   "nbconvert_exporter": "python",
   "pygments_lexer": "ipython3",
   "version": "3.12.4"
  }
 },
 "nbformat": 4,
 "nbformat_minor": 5
}
